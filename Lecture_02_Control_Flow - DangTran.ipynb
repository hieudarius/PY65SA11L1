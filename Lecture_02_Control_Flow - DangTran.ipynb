{
 "cells": [
  {
   "cell_type": "markdown",
   "metadata": {},
   "source": [
    "# Lecture 02: Control Flow"
   ]
  },
  {
   "cell_type": "markdown",
   "metadata": {},
   "source": [
    "\n",
    "<ul>\n",
    "<li>Có 3 pattern trong lập trình:<ol>\n",
    "<li><strong>Sequential:</strong> thực thi từ trên xuống dưới.</li>\n",
    "<li><strong>Branching:</strong> kiểm tra điều kiện, nếu đúng làm block lệnh này, sai làm block lệnh kia.</li>\n",
    "<li><strong>Looping</strong>: kiểm tra điều kiện và lặp lại một block lệnh.</li>\n",
    "</ol>\n",
    "</li>\n",
    "</ul>\n"
   ]
  },
  {
   "cell_type": "markdown",
   "metadata": {},
   "source": [
    "\n",
    "<h2 id=\"1.-Branching\">1. Branching<a class=\"anchor-link\" href=\"#1.-Branching\">¶</a></h2>\n"
   ]
  },
  {
   "cell_type": "markdown",
   "metadata": {},
   "source": [
    "\n",
    "<h3 id=\"1.1.-Tổng-quan\">1.1. Tổng quan<a class=\"anchor-link\" href=\"#1.1.-Tổng-quan\">¶</a></h3><ul>\n",
    "<li>Branching là động tác điều hướng chương trình thực thi các khối lệnh khác nhau dựa trên kết quả của việc kiểm tra một điều kiện nào đó.</li>\n",
    "<li>Branching được thực hiện bằng cách sử dụng các từ khóa sau <code>if</code>, <code>elif</code>, <code>else</code>.</li>\n",
    "<li><code>else</code> và <code>elif</code> là optional, không phải lúc nào cũng cần.</li>\n",
    "<li><p>Cú pháp tổng quát có dạng:</p>\n",
    "<pre><code>  if some_condition:\n",
    "      # do something\n",
    "  elif some_condition:\n",
    "      # do something\n",
    "  elif some_condition:\n",
    "      # do something\n",
    "  ...\n",
    "  else:\n",
    "      # do something</code></pre>\n",
    "</li>\n",
    "</ul>\n"
   ]
  },
  {
   "cell_type": "markdown",
   "metadata": {},
   "source": [
    "\n",
    "<h3 id=\"1.2.-Ví-dụ\">1.2. Ví dụ<a class=\"anchor-link\" href=\"#1.2.-Ví-dụ\">¶</a></h3>\n"
   ]
  },
  {
   "cell_type": "markdown",
   "metadata": {},
   "source": [
    "\n",
    "<h4 id=\"VD1:-if\">VD1: <code>if</code><a class=\"anchor-link\" href=\"#VD1:-if\">¶</a></h4>\n"
   ]
  },
  {
   "cell_type": "code",
   "execution_count": 1,
   "metadata": {},
   "outputs": [
    {
     "ename": "KeyboardInterrupt",
     "evalue": "Interrupted by user",
     "output_type": "error",
     "traceback": [
      "\u001b[1;31m---------------------------------------------------------------------------\u001b[0m",
      "\u001b[1;31mKeyboardInterrupt\u001b[0m                         Traceback (most recent call last)",
      "\u001b[1;32m~\\AppData\\Local\\Temp\\ipykernel_21296\\2987716475.py\u001b[0m in \u001b[0;36m<module>\u001b[1;34m\u001b[0m\n\u001b[0;32m      1\u001b[0m \u001b[1;31m# Kiểm tra một số nguyên có là số dương hay không\u001b[0m\u001b[1;33m\u001b[0m\u001b[1;33m\u001b[0m\u001b[0m\n\u001b[0;32m      2\u001b[0m \u001b[1;31m# Nếu đúng in ra \"positive\"\u001b[0m\u001b[1;33m\u001b[0m\u001b[1;33m\u001b[0m\u001b[0m\n\u001b[1;32m----> 3\u001b[1;33m \u001b[0mn\u001b[0m\u001b[1;33m=\u001b[0m\u001b[0mfloat\u001b[0m\u001b[1;33m(\u001b[0m\u001b[0minput\u001b[0m\u001b[1;33m(\u001b[0m\u001b[1;34m'Nhap so nguyen:'\u001b[0m\u001b[1;33m)\u001b[0m\u001b[1;33m)\u001b[0m\u001b[1;33m\u001b[0m\u001b[1;33m\u001b[0m\u001b[0m\n\u001b[0m\u001b[0;32m      4\u001b[0m \u001b[1;32mif\u001b[0m \u001b[0mn\u001b[0m\u001b[1;33m>\u001b[0m\u001b[1;36m0\u001b[0m\u001b[1;33m:\u001b[0m\u001b[1;33m\u001b[0m\u001b[1;33m\u001b[0m\u001b[0m\n\u001b[0;32m      5\u001b[0m     \u001b[0mprint\u001b[0m\u001b[1;33m(\u001b[0m\u001b[1;34m'So nguyen'\u001b[0m\u001b[1;33m)\u001b[0m\u001b[1;33m\u001b[0m\u001b[1;33m\u001b[0m\u001b[0m\n",
      "\u001b[1;32m~\\anaconda3\\lib\\site-packages\\ipykernel\\kernelbase.py\u001b[0m in \u001b[0;36mraw_input\u001b[1;34m(self, prompt)\u001b[0m\n\u001b[0;32m   1175\u001b[0m                 \u001b[1;34m\"raw_input was called, but this frontend does not support input requests.\"\u001b[0m\u001b[1;33m\u001b[0m\u001b[1;33m\u001b[0m\u001b[0m\n\u001b[0;32m   1176\u001b[0m             )\n\u001b[1;32m-> 1177\u001b[1;33m         return self._input_request(\n\u001b[0m\u001b[0;32m   1178\u001b[0m             \u001b[0mstr\u001b[0m\u001b[1;33m(\u001b[0m\u001b[0mprompt\u001b[0m\u001b[1;33m)\u001b[0m\u001b[1;33m,\u001b[0m\u001b[1;33m\u001b[0m\u001b[1;33m\u001b[0m\u001b[0m\n\u001b[0;32m   1179\u001b[0m             \u001b[0mself\u001b[0m\u001b[1;33m.\u001b[0m\u001b[0m_parent_ident\u001b[0m\u001b[1;33m[\u001b[0m\u001b[1;34m\"shell\"\u001b[0m\u001b[1;33m]\u001b[0m\u001b[1;33m,\u001b[0m\u001b[1;33m\u001b[0m\u001b[1;33m\u001b[0m\u001b[0m\n",
      "\u001b[1;32m~\\anaconda3\\lib\\site-packages\\ipykernel\\kernelbase.py\u001b[0m in \u001b[0;36m_input_request\u001b[1;34m(self, prompt, ident, parent, password)\u001b[0m\n\u001b[0;32m   1217\u001b[0m             \u001b[1;32mexcept\u001b[0m \u001b[0mKeyboardInterrupt\u001b[0m\u001b[1;33m:\u001b[0m\u001b[1;33m\u001b[0m\u001b[1;33m\u001b[0m\u001b[0m\n\u001b[0;32m   1218\u001b[0m                 \u001b[1;31m# re-raise KeyboardInterrupt, to truncate traceback\u001b[0m\u001b[1;33m\u001b[0m\u001b[1;33m\u001b[0m\u001b[0m\n\u001b[1;32m-> 1219\u001b[1;33m                 \u001b[1;32mraise\u001b[0m \u001b[0mKeyboardInterrupt\u001b[0m\u001b[1;33m(\u001b[0m\u001b[1;34m\"Interrupted by user\"\u001b[0m\u001b[1;33m)\u001b[0m \u001b[1;32mfrom\u001b[0m \u001b[1;32mNone\u001b[0m\u001b[1;33m\u001b[0m\u001b[1;33m\u001b[0m\u001b[0m\n\u001b[0m\u001b[0;32m   1220\u001b[0m             \u001b[1;32mexcept\u001b[0m \u001b[0mException\u001b[0m\u001b[1;33m:\u001b[0m\u001b[1;33m\u001b[0m\u001b[1;33m\u001b[0m\u001b[0m\n\u001b[0;32m   1221\u001b[0m                 \u001b[0mself\u001b[0m\u001b[1;33m.\u001b[0m\u001b[0mlog\u001b[0m\u001b[1;33m.\u001b[0m\u001b[0mwarning\u001b[0m\u001b[1;33m(\u001b[0m\u001b[1;34m\"Invalid Message:\"\u001b[0m\u001b[1;33m,\u001b[0m \u001b[0mexc_info\u001b[0m\u001b[1;33m=\u001b[0m\u001b[1;32mTrue\u001b[0m\u001b[1;33m)\u001b[0m\u001b[1;33m\u001b[0m\u001b[1;33m\u001b[0m\u001b[0m\n",
      "\u001b[1;31mKeyboardInterrupt\u001b[0m: Interrupted by user"
     ]
    }
   ],
   "source": [
    "# Kiểm tra một số nguyên có là số dương hay không\n",
    "# Nếu đúng in ra \"positive\"\n",
    "n=float(input('Nhap so nguyen:'))\n",
    "if n>0:\n",
    "    print('So nguyen')"
   ]
  },
  {
   "cell_type": "code",
   "execution_count": null,
   "metadata": {},
   "outputs": [],
   "source": [
    "# Kiểm tra 65 có trong mã lớp hay không, nếu có in ra có tồn tại\n",
    "if '65' in 'PY65SA11L1':\n",
    "    print('Ton tai')"
   ]
  },
  {
   "cell_type": "code",
   "execution_count": null,
   "metadata": {},
   "outputs": [],
   "source": [
    "# Lọc ra các số chẵn trong 100 số nguyên đầu tiên\n",
    "l=[]\n",
    "for i in range(100):\n",
    "    if i%2==0:\n",
    "        l.append(i)\n",
    "print(l)"
   ]
  },
  {
   "cell_type": "markdown",
   "metadata": {},
   "source": [
    "\n",
    "<h4 id=\"VD2:-if-else\">VD2: if else<a class=\"anchor-link\" href=\"#VD2:-if-else\">¶</a></h4>\n"
   ]
  },
  {
   "cell_type": "code",
   "execution_count": null,
   "metadata": {},
   "outputs": [],
   "source": [
    "# Kiểm tra một số nguyên là chẵn hay lẻ\n",
    "# Nếu chẵn in \"even\", ngược lại in \"odd\"\n",
    "n=float(input('Nhap so nguyen'))\n",
    "if n%2==0:\n",
    "    print('Even')\n",
    "else:\n",
    "    print('Odd')"
   ]
  },
  {
   "cell_type": "markdown",
   "metadata": {},
   "source": [
    "\n",
    "<h4 id=\"VD3:-if-elif\">VD3: if elif<a class=\"anchor-link\" href=\"#VD3:-if-elif\">¶</a></h4>\n"
   ]
  },
  {
   "cell_type": "code",
   "execution_count": null,
   "metadata": {},
   "outputs": [],
   "source": [
    "# Kiểm tra một số nguyên là dương, âm\n",
    "# In ra \"positive\", \"negative\" tương ứng\n",
    "# Nếu số bằng 0 thì không làm gì cả\n",
    "n=float(input('Nhap so nguyen'))\n",
    "if n>0:\n",
    "    print('Positive')\n",
    "elif n<0:\n",
    "    print('Negative')"
   ]
  },
  {
   "cell_type": "markdown",
   "metadata": {},
   "source": [
    "\n",
    "<h4 id=\"VD4:-if-elif-else\">VD4: if elif else<a class=\"anchor-link\" href=\"#VD4:-if-elif-else\">¶</a></h4>\n"
   ]
  },
  {
   "cell_type": "code",
   "execution_count": null,
   "metadata": {},
   "outputs": [],
   "source": [
    "# Kiểm tra một số nguyên là dương, âm, hay bằng 0\n",
    "# In ra \"positive\", \"negative\", hoặc \"zero\" tương ứng\n",
    "n=float(input('Nhap so nguyen'))\n",
    "if n>0:\n",
    "    print('Positive')\n",
    "elif n<0:\n",
    "    print('Negative')\n",
    "else:\n",
    "    print('zero')"
   ]
  },
  {
   "cell_type": "code",
   "execution_count": null,
   "metadata": {},
   "outputs": [],
   "source": [
    "'''\n",
    "Tạo 2 list: name, province\n",
    "Cho người dùng input, nếu giá trị input có chứa từ \"Tinh\"  thì thêm giá trị input vào list province, ngược lại thì thêm vào list name\n",
    "'''"
   ]
  },
  {
   "cell_type": "markdown",
   "metadata": {},
   "source": [
    "\n",
    "<h3 id=\"1.3.-Nested-if\">1.3. Nested if<a class=\"anchor-link\" href=\"#1.3.-Nested-if\">¶</a></h3>\n"
   ]
  },
  {
   "cell_type": "code",
   "execution_count": null,
   "metadata": {},
   "outputs": [],
   "source": [
    "# Kiểm tra xem điểm có hợp lệ không (0-10)\n",
    "# Nếu hợp lệ, kiểm tra xem có qua môn không (score >= 5)\n"
   ]
  },
  {
   "cell_type": "code",
   "execution_count": null,
   "metadata": {},
   "outputs": [],
   "source": [
    "n=float(input('Nhap so diem:'))\n",
    "if 0<=n<=10:\n",
    "    if n>=5:\n",
    "        print('Qua Mon')\n",
    "    else:\n",
    "        print('khong qua mon')\n",
    "else:\n",
    "    print('Diem khong hop le')"
   ]
  },
  {
   "cell_type": "code",
   "execution_count": null,
   "metadata": {},
   "outputs": [],
   "source": [
    "# Vẫn VD trên nhưng ko dùng nested if\n",
    "n=float(input('Nhap so diem:'))\n",
    "if 0<=n<5:\n",
    "    print('Khong qua mon')\n",
    "elif 5<=n<=10:\n",
    "    print('Qua mon')\n",
    "else:\n",
    "    print('Diem khong hop le')"
   ]
  },
  {
   "cell_type": "code",
   "execution_count": null,
   "metadata": {},
   "outputs": [],
   "source": [
    "# Tạo một dictionary lưu điểm\n",
    "scores = {\n",
    "    \"Jack\": 9,\n",
    "    \"Bill\": 4,\n",
    "    \"Hillary\": 7\n",
    "}\n",
    "\n",
    "# Kiểm tra xem một student có trong danh sách không và in ra\n",
    "# Nếu có, tiếp tục kiểm tra xem student đó có qua môn không (score >= 5)\n",
    "\n"
   ]
  },
  {
   "cell_type": "code",
   "execution_count": null,
   "metadata": {},
   "outputs": [],
   "source": []
  },
  {
   "cell_type": "markdown",
   "metadata": {},
   "source": [
    "\n",
    "<h2 id=\"2.-Looping\">2. Looping<a class=\"anchor-link\" href=\"#2.-Looping\">¶</a></h2>\n"
   ]
  },
  {
   "cell_type": "markdown",
   "metadata": {},
   "source": [
    "\n",
    "<ul>\n",
    "<li>Looping (lặp) là động tác lặp đi lặp lại một block lệnh nhiều lần.</li>\n",
    "<li>Looping trong Python được thực hiện thông qua <code>for</code> hoặc <code>while</code>.</li>\n",
    "</ul>\n"
   ]
  },
  {
   "cell_type": "markdown",
   "metadata": {},
   "source": [
    "\n",
    "<h3 id=\"2.1.-for-loop\">2.1. <code>for</code> loop<a class=\"anchor-link\" href=\"#2.1.-for-loop\">¶</a></h3>\n"
   ]
  },
  {
   "cell_type": "markdown",
   "metadata": {},
   "source": [
    "\n",
    "<ul>\n",
    "<li>Vòng for thường được dùng để duyệt qua một <code>iterable</code>.</li>\n",
    "<li>Cú pháp tổng quát:\n",
    "<pre><code>  for var in interable:\n",
    "      # do something</code></pre>\n",
    "</li>\n",
    "</ul>\n"
   ]
  },
  {
   "cell_type": "markdown",
   "metadata": {},
   "source": [
    "\n",
    "<h4 id=\"VD1:-Duyệt-iterable-cơ-bản\">VD1: Duyệt iterable cơ bản<a class=\"anchor-link\" href=\"#VD1:-Duyệt-iterable-cơ-bản\">¶</a></h4>\n"
   ]
  },
  {
   "cell_type": "code",
   "execution_count": null,
   "metadata": {},
   "outputs": [],
   "source": [
    "# In ra 10 số nguyên đầu tiên\n",
    "for i in range(10):\n",
    "    print(i)"
   ]
  },
  {
   "cell_type": "code",
   "execution_count": null,
   "metadata": {},
   "outputs": [],
   "source": [
    "# Tính tổng bình phương của 10 số nguyên đầu tiên\n",
    "n=0\n",
    "for i in range(10):\n",
    "    n=n+i**2\n",
    "print(n)"
   ]
  },
  {
   "cell_type": "code",
   "execution_count": null,
   "metadata": {},
   "outputs": [],
   "source": [
    "# Đếm số ký tự viết hoa trong 1 string\n",
    "s = \"WTO is short for World Trade Organization\"\n",
    "n=0\n",
    "for i in s:\n",
    "    if i.isupper():\n",
    "        n=n+1\n",
    "print(n)\n",
    "    "
   ]
  },
  {
   "cell_type": "markdown",
   "metadata": {},
   "source": [
    "\n",
    "<h4 id=\"VD2:-Duyệt-sequence-với-enumerate\">VD2: Duyệt sequence với enumerate<a class=\"anchor-link\" href=\"#VD2:-Duyệt-sequence-với-enumerate\">¶</a></h4>\n"
   ]
  },
  {
   "cell_type": "code",
   "execution_count": null,
   "metadata": {},
   "outputs": [],
   "source": [
    "# Duyệt kèm index với enumerate\n",
    "students = [\"Jack\", \"Bill\", \"Jane\"]\n"
   ]
  },
  {
   "cell_type": "markdown",
   "metadata": {},
   "source": [
    "\n",
    "<h4 id=\"VD4:-Duyệt-dict\">VD4: Duyệt dict<a class=\"anchor-link\" href=\"#VD4:-Duyệt-dict\">¶</a></h4>\n"
   ]
  },
  {
   "cell_type": "code",
   "execution_count": null,
   "metadata": {},
   "outputs": [],
   "source": [
    "# Duyệt dict keys\n",
    "scores = {\n",
    "    \"Jack\": 9,\n",
    "    \"Bill\": 4,\n",
    "    \"Hillary\": 7\n",
    "}\n",
    "\n",
    "for i in scores:\n",
    "    print(i)\n"
   ]
  },
  {
   "cell_type": "code",
   "execution_count": null,
   "metadata": {},
   "outputs": [],
   "source": [
    "# Duyệt dict values\n",
    "for i in scores.values():\n",
    "    print(i)"
   ]
  },
  {
   "cell_type": "code",
   "execution_count": null,
   "metadata": {},
   "outputs": [],
   "source": [
    "# Duyệt dict items\n",
    "for k,v in scores.items():\n",
    "    print('{} has scores of {}'.format(k,v))"
   ]
  },
  {
   "cell_type": "markdown",
   "metadata": {},
   "source": [
    "\n",
    "<h4 id=\"VD5:-Nested-for\">VD5: Nested for<a class=\"anchor-link\" href=\"#VD5:-Nested-for\">¶</a></h4>\n"
   ]
  },
  {
   "cell_type": "code",
   "execution_count": null,
   "metadata": {},
   "outputs": [],
   "source": [
    "# In ra tam giác\n",
    "for i in range(10):\n",
    "    for j in range(i,10):\n",
    "        print(j,end=' ')\n",
    "    print('')"
   ]
  },
  {
   "cell_type": "markdown",
   "metadata": {},
   "source": [
    "\n",
    "<h3 id=\"2.2.-While-loop\">2.2. While loop<a class=\"anchor-link\" href=\"#2.2.-While-loop\">¶</a></h3>\n"
   ]
  },
  {
   "cell_type": "markdown",
   "metadata": {},
   "source": [
    "\n",
    "<ul>\n",
    "<li>Vòng <code>while</code> thường được dùng để lặp khi điều kiện dừng của nó chưa biết rõ từ đầu, mà được tính toán từ quá trình lặp.</li>\n",
    "<li><p>Cú pháp tổng quát:</p>\n",
    "<pre><code>  while condition:\n",
    "      # do something</code></pre>\n",
    "</li>\n",
    "<li><p><code>condition</code> là điều kiện quyết định vòng lặp while có được chạy hay không.</p>\n",
    "<ul>\n",
    "<li>Nếu <code>condition</code> trả về <code>True</code> thì câu lệnh trong <code>while</code> mới được thực thi</li>\n",
    "<li>Nếu <code>condition</code> trả về <code>False</code> vòng <code>while</code> sẽ dừng.</li>\n",
    "</ul>\n",
    "</li>\n",
    "</ul>\n"
   ]
  },
  {
   "cell_type": "markdown",
   "metadata": {},
   "source": [
    "\n",
    "<h4 id=\"VD1:-Dùng-vòng-while-như-vòng-for\">VD1: Dùng vòng while như vòng for<a class=\"anchor-link\" href=\"#VD1:-Dùng-vòng-while-như-vòng-for\">¶</a></h4>\n"
   ]
  },
  {
   "cell_type": "code",
   "execution_count": null,
   "metadata": {},
   "outputs": [],
   "source": [
    "for i in range(10):\n",
    "    print(i)"
   ]
  },
  {
   "cell_type": "code",
   "execution_count": null,
   "metadata": {},
   "outputs": [],
   "source": [
    "i=0\n",
    "while i<=9:\n",
    "    print(i)\n",
    "    i=i+1\n",
    "    "
   ]
  },
  {
   "cell_type": "code",
   "execution_count": null,
   "metadata": {},
   "outputs": [],
   "source": [
    "# Dùng vòng for duyệt 1 sequence\n",
    "s = \"This is a string\"\n",
    "\n",
    "for i in s:\n",
    "    print(i, end=',')"
   ]
  },
  {
   "cell_type": "code",
   "execution_count": null,
   "metadata": {},
   "outputs": [],
   "source": [
    "len(s)"
   ]
  },
  {
   "cell_type": "code",
   "execution_count": null,
   "metadata": {},
   "outputs": [],
   "source": [
    "# Làm VD trên với while\n",
    "\n",
    "i=0\n",
    "while i<len(s):\n",
    "    print(s[i],end=',')\n",
    "    i+=1"
   ]
  },
  {
   "cell_type": "markdown",
   "metadata": {},
   "source": [
    "\n",
    "<h4 id=\"VD2:-Dùng-vòng-while-duyệt-data-động\">VD2: Dùng vòng while duyệt data động<a class=\"anchor-link\" href=\"#VD2:-Dùng-vòng-while-duyệt-data-động\">¶</a></h4>\n"
   ]
  },
  {
   "cell_type": "code",
   "execution_count": null,
   "metadata": {},
   "outputs": [],
   "source": [
    "l = [1, 2, 3, 5, 0, -2]\n",
    "print(l)"
   ]
  },
  {
   "cell_type": "code",
   "execution_count": null,
   "metadata": {},
   "outputs": [],
   "source": [
    "# Tính tổng một list số nguyên và làm rỗng list khi tính xong\n",
    "i=0\n",
    "while l:\n",
    "    i+=l.pop()\n",
    "print(i)\n",
    "l"
   ]
  },
  {
   "cell_type": "code",
   "execution_count": null,
   "metadata": {},
   "outputs": [],
   "source": [
    "sum(l)"
   ]
  },
  {
   "cell_type": "code",
   "execution_count": null,
   "metadata": {},
   "outputs": [],
   "source": [
    "# In ra các chữ số của một số nguyên theo chiều ngược lại\n",
    "# VD: số ban đầu 1245378, số in ra 8735421\n",
    "n=1245378\n",
    "m=0\n",
    "while n>0:\n",
    "    m=m*10+n%10\n",
    "    n=n//10\n",
    "print(m)\n",
    "print(n)\n",
    "\n"
   ]
  },
  {
   "cell_type": "code",
   "execution_count": null,
   "metadata": {},
   "outputs": [],
   "source": [
    "# Cách nhanh hơn (ko dùng loop)\n",
    "n=str(1245378)[::-1]\n",
    "print(n)\n"
   ]
  },
  {
   "cell_type": "markdown",
   "metadata": {},
   "source": [
    "\n",
    "<h2 id=\"3.-break-and-continue\">3. <code>break</code> and <code>continue</code><a class=\"anchor-link\" href=\"#3.-break-and-continue\">¶</a></h2>\n"
   ]
  },
  {
   "cell_type": "markdown",
   "metadata": {},
   "source": [
    "\n",
    "<ul>\n",
    "<li><code>break</code> - chấm dứt vòng lặp (nhảy ra khỏi vòng lặp để ra block phía sau cùng cấp với vòng for/while).</li>\n",
    "<li><code>continue</code> - skip tất cả các câu lệnh phía sau <code>continue</code> ở iteration hiện tại và chuyển qua iteration tiếp theo.</li>\n",
    "</ul>\n"
   ]
  },
  {
   "cell_type": "markdown",
   "metadata": {},
   "source": [
    "\n",
    "<h3 id=\"3.1.-break\">3.1. <code>break</code><a class=\"anchor-link\" href=\"#3.1.-break\">¶</a></h3>\n"
   ]
  },
  {
   "cell_type": "code",
   "execution_count": null,
   "metadata": {},
   "outputs": [],
   "source": [
    "# In ra số chẵn đầu tiên của list (nếu tìm thấy) và dừng vòng lặp\n",
    "# Đồng thời in ra số thứ tự của iteration ở mỗi bước (bắt đầu từ 1)\n",
    "l = [1, 3, -15, 4, 8, -2, 7] # Có số chẵn\n",
    "l2 = list(range(1, 10, 2)) # Không có số chẵn\n",
    "\n",
    "# Test với l\n",
    "print(\"Có tổng cộng {} phần tử\".format(len(l)))\n",
    "for i, x in enumerate(l):\n",
    "    print(\"Iteration {}\".format(i + 1))\n",
    "\n",
    "    if x % 2 == 0:\n",
    "        print(x)\n",
    "        print(\"End for\")\n",
    "        break\n",
    "\n",
    "# Test với l2\n",
    "print(\"\\nCó tổng cộng {} phần tử\".format(len(l2)))\n",
    "for i, x in enumerate(l2):\n",
    "    print(\"Iteration {}\".format(i + 1))\n",
    "\n",
    "    if x % 2 == 0:\n",
    "        print(x)\n",
    "        break"
   ]
  },
  {
   "cell_type": "code",
   "execution_count": null,
   "metadata": {},
   "outputs": [],
   "source": [
    "#in ra tên của bạn đầu tiên trên 25t\n",
    "d={'Tuan':20,'Lan':30,'Thanh':26,'Khai':40}\n",
    "for k,v in d.items():\n",
    "    if v>25:\n",
    "        print(k)\n",
    "        break"
   ]
  },
  {
   "cell_type": "markdown",
   "metadata": {},
   "source": [
    "\n",
    "<h3 id=\"3.2.-continue\">3.2. <code>continue</code><a class=\"anchor-link\" href=\"#3.2.-continue\">¶</a></h3>\n"
   ]
  },
  {
   "cell_type": "code",
   "execution_count": null,
   "metadata": {},
   "outputs": [],
   "source": [
    "# Cho 1 list, chỉ tính tổng các số dương\n",
    "l = [1, 3, -15, 4, -2, 0, -8]\n",
    "\n",
    "total = 0\n",
    "for x in l:\n",
    "    if x <= 0:\n",
    "        continue\n",
    "    \n",
    "    total += x\n",
    "    \n",
    "print(total)"
   ]
  },
  {
   "cell_type": "code",
   "execution_count": null,
   "metadata": {},
   "outputs": [],
   "source": [
    "# VD trên (không dùng continue)\n",
    "l = [1, 3, -15, 4, -2, 0, -8]\n",
    "\n",
    "total = 0\n",
    "for i in l:\n",
    "    if i > 0:\n",
    "        total += i\n",
    "print(total)"
   ]
  },
  {
   "cell_type": "code",
   "execution_count": null,
   "metadata": {},
   "outputs": [],
   "source": [
    "n=0\n",
    "for i in range(5):\n",
    "    if i==3:\n",
    "        continue\n",
    "    n+=i\n",
    "print (n)"
   ]
  },
  {
   "cell_type": "code",
   "execution_count": null,
   "metadata": {},
   "outputs": [],
   "source": [
    "'''\n",
    "Cho danh sách ['Nguyen Van A','Tran Quang Khai',28,'Tinh Nghe An',40,'TP HCM']\n",
    "Tạo 3 list rỗng name, age, province\n",
    "Duyệt qua danh sách, nếu:\n",
    "- Giá trị là dạng số thì thêm vào list age\n",
    "- Giá trị có chứa keyword 'Tinh' hay 'TP' thì thêm vào list province\n",
    "- Còn lại thêm vào list name\n",
    "'''\n",
    "l=['Nguyen Van A','Tran Quang Khai',28,'Tinh Nghe An',40,'TP HCM']\n",
    "age=[]\n",
    "province=[]\n",
    "name=[]\n",
    "\n",
    "for i in l:\n",
    "    if type(i)==int:\n",
    "        age.append(i)\n",
    "    elif ('tinh' in i.lower()) | ('tp' in i.lower()):\n",
    "        province.append(i)\n",
    "    else:\n",
    "        name.append(i)\n",
    "print(age)\n",
    "print(province)\n",
    "print(name)\n",
    "        "
   ]
  },
  {
   "cell_type": "markdown",
   "metadata": {},
   "source": [
    "\n",
    "<h2 id=\"4.-Comprehensions\">4. Comprehensions<a class=\"anchor-link\" href=\"#4.-Comprehensions\">¶</a></h2>\n"
   ]
  },
  {
   "cell_type": "markdown",
   "metadata": {},
   "source": [
    "\n",
    "<h3 id=\"4.1.-Tổng-quan\">4.1. Tổng quan<a class=\"anchor-link\" href=\"#4.1.-Tổng-quan\">¶</a></h3><ul>\n",
    "<li>Comprehensions là một cách ngắn gọn để tạo sequences hoặc dictionaries mà không cần phải viết vòng lặp. </li>\n",
    "<li>Cú pháp tổng quát như sau:\n",
    "<pre><code>  l = [expr for item in interable if condition]\n",
    "  t = (expr for item in interable if condition)\n",
    "  d = {expr_1: expr_2 for item in interable if condition}</code></pre>\n",
    "</li>\n",
    "</ul>\n"
   ]
  },
  {
   "cell_type": "markdown",
   "metadata": {},
   "source": [
    "\n",
    "<h3 id=\"4.2.-Ví-dụ\">4.2. Ví dụ<a class=\"anchor-link\" href=\"#4.2.-Ví-dụ\">¶</a></h3>\n"
   ]
  },
  {
   "cell_type": "markdown",
   "metadata": {},
   "source": [
    "\n",
    "<h4 id=\"VD1:-List-comprehensions\">VD1: List comprehensions<a class=\"anchor-link\" href=\"#VD1:-List-comprehensions\">¶</a></h4>\n"
   ]
  },
  {
   "cell_type": "code",
   "execution_count": null,
   "metadata": {},
   "outputs": [],
   "source": [
    "# Generate squares <= 100\n",
    "for i in range(11):\n",
    "    x = i**2\n",
    "    print(x,end=' ')"
   ]
  },
  {
   "cell_type": "code",
   "execution_count": null,
   "metadata": {},
   "outputs": [],
   "source": [
    "[i**2 for i in range(11)]"
   ]
  },
  {
   "cell_type": "code",
   "execution_count": null,
   "metadata": {},
   "outputs": [],
   "source": [
    "# Generate squares <= 100 of even numbers only\n",
    "[i**2 for i in range(11) if i%2==0]"
   ]
  },
  {
   "cell_type": "code",
   "execution_count": null,
   "metadata": {},
   "outputs": [],
   "source": [
    "# Generate squares <= 100 of odd numbers only\n"
   ]
  },
  {
   "cell_type": "code",
   "execution_count": null,
   "metadata": {},
   "outputs": [],
   "source": [
    "# Count number of characters for each word\n",
    "word_list = [\"this\",\"is\",\"a\",\"list\",\"of\",\"words\"]\n",
    "\n",
    "[len(i) for i in word_list]\n"
   ]
  },
  {
   "cell_type": "code",
   "execution_count": null,
   "metadata": {},
   "outputs": [],
   "source": [
    "# Extract tokens that are numbers from a string\n",
    "text = \"I am 20 years old and earn 1000000 USD annually\"\n",
    "\n",
    "[i for i in text.split() if i.isnumeric()]"
   ]
  },
  {
   "cell_type": "markdown",
   "metadata": {},
   "source": [
    "\n",
    "<h4 id=\"VD2:-Dict-comprehensions\">VD2: Dict comprehensions<a class=\"anchor-link\" href=\"#VD2:-Dict-comprehensions\">¶</a></h4>\n"
   ]
  },
  {
   "cell_type": "code",
   "execution_count": null,
   "metadata": {},
   "outputs": [],
   "source": [
    "# Generate x: x^2 pairs for x <= 10\n",
    "{x:x**2 for x in range(11)}"
   ]
  },
  {
   "cell_type": "code",
   "execution_count": null,
   "metadata": {},
   "outputs": [],
   "source": [
    "# Generate x: x^2 pairs for x <= 10 for even numbers only\n",
    "{x:x**2 for x in range(11) if x%2==0}"
   ]
  },
  {
   "cell_type": "code",
   "execution_count": null,
   "metadata": {},
   "outputs": [],
   "source": [
    "# Count number of characters for each word\n",
    "word_list = [\"this\",\"is\",\"a\",\"list\",\"of\",\"words\"]\n",
    "{x:len(x) for x in word_list}"
   ]
  },
  {
   "cell_type": "code",
   "execution_count": null,
   "metadata": {},
   "outputs": [],
   "source": [
    "# Generate lowercase: uppercase pairs\n",
    "word_list = [\"This\",\"iS\",\"a\",\"list\",\"of\",\"words\"]\n",
    "{x.lower():x.upper() for x in word_list}"
   ]
  },
  {
   "cell_type": "code",
   "execution_count": null,
   "metadata": {},
   "outputs": [],
   "source": [
    "# Generate a dict of position: value pairs from a list\n",
    "word_list = [\"this\",\"is\",\"a\",\"list\",\"of\",\"words\"]\n",
    "# d1 = {x:word_list.index(x) for x in word_list} -> index -> first value\n",
    "d2 = {x+1:word_list[x] for x in range(len(word_list))}\n",
    "d3 = {i+1:x for i,x in enumerate(word_list)}\n",
    "dic = {word_list[i]:i+1 for i in range(len(word_list))}\n",
    "print(d2)\n",
    "print(d3)\n",
    "print(dic)"
   ]
  },
  {
   "cell_type": "code",
   "execution_count": null,
   "metadata": {},
   "outputs": [],
   "source": [
    "# Remove some keys\n",
    "\n",
    "# Create a dict with keys are animal types and values are number of characters\n",
    "animals = [\"dog\", \"cat\", \"bull\", \"horse\"]\n",
    "d1 = {x: len(x) for x in animals}\n",
    "print(d1)\n",
    "\n",
    "# Remove keys\n",
    "keys_to_remove = {\"dog\", \"horse\"}\n",
    "\n",
    "# Method 1\n",
    "del(d1['dog'])\n",
    "print(d1)\n",
    "\n",
    "# Method 2\n",
    "d1.pop('horse')\n",
    "print(d1)"
   ]
  },
  {
   "cell_type": "code",
   "execution_count": null,
   "metadata": {},
   "outputs": [],
   "source": [
    "'''\n",
    "Truy xuất và lưu lại tên email từ list: ['Nguyen Van A',20,'nguyenvana@gmail.com','Tran Van B',15,'vanb@outlook.com']\n",
    "'''\n",
    "l=['Nguyen Van A',20,'nguyenvana@gmail.com','Tran Van B',15,'vanb@outlook.com']\n",
    "\n",
    "[i for i in l if '@' in str(i)]"
   ]
  }
 ],
 "metadata": {
  "kernelspec": {
   "display_name": "Python 3 (ipykernel)",
   "language": "python",
   "name": "python3"
  },
  "language_info": {
   "codemirror_mode": {
    "name": "ipython",
    "version": 3
   },
   "file_extension": ".py",
   "mimetype": "text/x-python",
   "name": "python",
   "nbconvert_exporter": "python",
   "pygments_lexer": "ipython3",
   "version": "3.9.13"
  },
  "toc": {
   "base_numbering": 1,
   "nav_menu": {},
   "number_sections": true,
   "sideBar": true,
   "skip_h1_title": false,
   "title_cell": "Table of Contents",
   "title_sidebar": "Contents",
   "toc_cell": false,
   "toc_position": {},
   "toc_section_display": true,
   "toc_window_display": true
  }
 },
 "nbformat": 4,
 "nbformat_minor": 4
}

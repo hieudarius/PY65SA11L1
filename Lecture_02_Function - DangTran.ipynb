{
 "cells": [
  {
   "cell_type": "markdown",
   "metadata": {},
   "source": [
    "# Lecture 02: Function"
   ]
  },
  {
   "cell_type": "markdown",
   "metadata": {},
   "source": [
    "\n",
    "<h2 id=\"1.-Functions\">1. Functions<a class=\"anchor-link\" href=\"#1.-Functions\">¶</a></h2>\n"
   ]
  },
  {
   "cell_type": "markdown",
   "metadata": {},
   "source": [
    "\n",
    "<h3 id=\"1.1.-Tổng-quan\">1.1. Tổng quan<a class=\"anchor-link\" href=\"#1.1.-Tổng-quan\">¶</a></h3><ul>\n",
    "<li>Hàm là một tập các khối code được viết ra nhằm cho việc tái sử dụng code. </li>\n",
    "<li>Ví dụ bạn thường xuyên phải làm tác vụ lọc ra các số trong 1 string, thì thay vì viết đi viết lại đoạn code đó mỗi lần cần đến, thì bạn có thể đóng nó lại thành một hàm, và khi nào cần thì có thể gọi nó ra dùng.</li>\n",
    "</ul>\n"
   ]
  },
  {
   "cell_type": "markdown",
   "metadata": {},
   "source": [
    "\n",
    "<h3 id=\"1.2.-Khai-báo-và-sử-dụng-hàm\">1.2. Khai báo và sử dụng hàm<a class=\"anchor-link\" href=\"#1.2.-Khai-báo-và-sử-dụng-hàm\">¶</a></h3><ul>\n",
    "<li>Cú pháp khai báo (định nghĩa) một hàm như sau:<div class=\"highlight\"><pre><span></span><span class=\"k\">def</span> <span class=\"nf\">function_name</span><span class=\"p\">(</span><span class=\"n\">params</span><span class=\"p\">):</span>\n",
    "  <span class=\"c1\"># code here</span>\n",
    "</pre></div>\n",
    "</li>\n",
    "<li><code>function_name</code> là tên hàm muốn đặt</li>\n",
    "<li><code>params</code> là danh sách tham số (parameters) user muốn truyền vào. Hàm có thể:<ul>\n",
    "<li>Không có tham số.</li>\n",
    "<li>Có một tham số.</li>\n",
    "<li>Có nhiều tham số cách nhau bởi dấu phẩy.</li>\n",
    "</ul>\n",
    "</li>\n",
    "<li>Hàm có thể trả về kế quả (thông qua <code>return</code>) hoặc không trả về gì hết (<code>None</code>).</li>\n",
    "<li>Sử dụng (gọi) hàm bằng cách viết tên hàm, kèm dấu ngoặc tròn, và truyền tham số (nếu có). Ví dụ: <code>print(\"Hello\", end=\"\\n\")</code>.</li>\n",
    "</ul>\n"
   ]
  },
  {
   "cell_type": "markdown",
   "metadata": {},
   "source": [
    "\n",
    "<h4 id=\"VD1:-Hàm-say_hi()\">VD1: Hàm <code>say_hi()</code><a class=\"anchor-link\" href=\"#VD1:-Hàm-say_hi()\">¶</a></h4>\n"
   ]
  },
  {
   "cell_type": "code",
   "execution_count": 1,
   "metadata": {},
   "outputs": [],
   "source": [
    "# Định nghĩa\n",
    "def say_hi():\n",
    "    print(\"Hello user! Have a good day.\")"
   ]
  },
  {
   "cell_type": "code",
   "execution_count": 2,
   "metadata": {},
   "outputs": [
    {
     "name": "stdout",
     "output_type": "stream",
     "text": [
      "Hello user! Have a good day.\n"
     ]
    }
   ],
   "source": [
    "# Gọi hàm\n",
    "say_hi()"
   ]
  },
  {
   "cell_type": "markdown",
   "metadata": {},
   "source": [
    "\n",
    "<h4 id=\"VD2:-Hàm-say_hi(name)\">VD2: Hàm <code>say_hi(name)</code><a class=\"anchor-link\" href=\"#VD2:-Hàm-say_hi(name)\">¶</a></h4>\n"
   ]
  },
  {
   "cell_type": "code",
   "execution_count": 3,
   "metadata": {},
   "outputs": [],
   "source": [
    "# Định nghĩa\n",
    "def say_hi(name):\n",
    "    print(\"Hello {}! Have a good day.\".format(name))"
   ]
  },
  {
   "cell_type": "code",
   "execution_count": 4,
   "metadata": {},
   "outputs": [
    {
     "name": "stdout",
     "output_type": "stream",
     "text": [
      "Hello Tony! Have a good day.\n"
     ]
    }
   ],
   "source": [
    "# Gọi\n",
    "say_hi(\"Tony\")"
   ]
  },
  {
   "cell_type": "markdown",
   "metadata": {},
   "source": [
    "\n",
    "<h4 id=\"VD3:-Hàm-cộng-hai-số-và-trả-về-tổng\">VD3: Hàm cộng hai số và trả về tổng<a class=\"anchor-link\" href=\"#VD3:-Hàm-cộng-hai-số-và-trả-về-tổng\">¶</a></h4>\n"
   ]
  },
  {
   "cell_type": "code",
   "execution_count": 8,
   "metadata": {},
   "outputs": [],
   "source": [
    "# Định nghĩa\n",
    "def add_numbers(x,y):\n",
    "    return x+y"
   ]
  },
  {
   "cell_type": "code",
   "execution_count": 9,
   "metadata": {},
   "outputs": [
    {
     "name": "stdout",
     "output_type": "stream",
     "text": [
      "3\n",
      "0\n"
     ]
    }
   ],
   "source": [
    "# Gọi\n",
    "print(add_numbers(1, 2))\n",
    "print(add_numbers(-1, 1))"
   ]
  },
  {
   "cell_type": "markdown",
   "metadata": {},
   "source": [
    "\n",
    "<h4 id=\"VD4:-Hàm-loại-đi-các-ký-tự-đặc-biệt-(chỉ-giữ-lại-a-zA-Z0-9)\">VD4: Hàm loại đi các ký tự đặc biệt (chỉ giữ lại a-zA-Z0-9)<a class=\"anchor-link\" href=\"#VD4:-Hàm-loại-đi-các-ký-tự-đặc-biệt-(chỉ-giữ-lại-a-zA-Z0-9)\">¶</a></h4>\n"
   ]
  },
  {
   "cell_type": "code",
   "execution_count": 1,
   "metadata": {},
   "outputs": [],
   "source": [
    "# Định nghĩa (1)\n",
    "def remove_special_chars(s):\n",
    "    results = []\n",
    "    for x in s:\n",
    "        if ('a' <= x.lower() <= 'z') | ('0' <= x.lower() <= '9') | (x == ' '):\n",
    "            results.append(x)\n",
    "    return ''.join(results)"
   ]
  },
  {
   "cell_type": "code",
   "execution_count": 2,
   "metadata": {},
   "outputs": [],
   "source": [
    "def remove_special_chars2(s):\n",
    "    result = ''\n",
    "    for i in s:\n",
    "        if (i.isalnum() == True) or (i == ' '):\n",
    "            result += i \n",
    "    return result"
   ]
  },
  {
   "cell_type": "code",
   "execution_count": 3,
   "metadata": {},
   "outputs": [
    {
     "name": "stdout",
     "output_type": "stream",
     "text": [
      "Hello world 123 !@#$%\n",
      "Hello world 123 \n"
     ]
    }
   ],
   "source": [
    "# Gọi\n",
    "s = \"Hello world 123 !@#$%\"\n",
    "s_std = remove_special_chars(s)\n",
    "\n",
    "print(s)\n",
    "print(s_std)"
   ]
  },
  {
   "cell_type": "code",
   "execution_count": 4,
   "metadata": {},
   "outputs": [
    {
     "name": "stdout",
     "output_type": "stream",
     "text": [
      "Hello world 123 \n"
     ]
    }
   ],
   "source": [
    "print(remove_special_chars2(s))"
   ]
  },
  {
   "cell_type": "code",
   "execution_count": 3,
   "metadata": {},
   "outputs": [],
   "source": [
    "# Định nghĩa (2): dùng comprehensions\n"
   ]
  },
  {
   "cell_type": "code",
   "execution_count": 4,
   "metadata": {},
   "outputs": [
    {
     "name": "stdout",
     "output_type": "stream",
     "text": [
      "Hello world 123 !@#$%\n",
      "Helloworld123\n"
     ]
    }
   ],
   "source": [
    "# Gọi\n",
    "s = \"Hello world 123 !@#$%\"\n",
    "s_std = remove_special_chars(s)\n",
    "\n",
    "print(s)\n",
    "print(s_std)"
   ]
  },
  {
   "cell_type": "code",
   "execution_count": null,
   "metadata": {},
   "outputs": [],
   "source": [
    "'''\n",
    "def hàm trả về các số chẵn từ 1 list số truyền vào\n",
    "def hàm nhận một dãy số, in ra tổng các số lẻ trong dãy số\n",
    "def hàm lấy tên của khách hàng từ một dictionary truyền vào {'name':'Tuan','age':20}\n",
    "def hàm cho user nhập vào tên học sinh, trả ra kết quả thi. Biết kết quả thi được lưu như sau: {'Jack':8,'John':9}. Nếu tên không tồn tại, in ra \"ten khong ton tai\"\n",
    "def hàm nhận vào một câu bất kỳ, trả ra list các con số có trong câu đó\n",
    "'''"
   ]
  },
  {
   "cell_type": "code",
   "execution_count": 18,
   "metadata": {},
   "outputs": [
    {
     "name": "stdout",
     "output_type": "stream",
     "text": [
      "[2, 4, 6, 8, 0]\n"
     ]
    }
   ],
   "source": [
    "#def hàm trả về các số chẵn từ 1 list số truyền vào\n",
    "l=[1,2,3,4,5,6,7,8,9,0]\n",
    "def even(lst):\n",
    "    n=[]\n",
    "    for i in lst:\n",
    "        if i%2==0:\n",
    "            n.append(i)\n",
    "    return n\n",
    "print(even(l))"
   ]
  },
  {
   "cell_type": "code",
   "execution_count": 19,
   "metadata": {},
   "outputs": [
    {
     "name": "stdout",
     "output_type": "stream",
     "text": [
      "25\n"
     ]
    }
   ],
   "source": [
    "#def hàm nhận một dãy số, in ra tổng các số lẻ trong dãy số\n",
    "l=[1,2,3,4,5,6,7,8,9,0]\n",
    "def odd_ttl(lst):\n",
    "    n=0\n",
    "    for i in lst:\n",
    "        if i%2>0:\n",
    "            n+=i\n",
    "    return n\n",
    "print(odd_ttl(l))"
   ]
  },
  {
   "cell_type": "code",
   "execution_count": 20,
   "metadata": {},
   "outputs": [
    {
     "name": "stdout",
     "output_type": "stream",
     "text": [
      "['Tuan']\n"
     ]
    }
   ],
   "source": [
    "#def hàm lấy tên của khách hàng từ một dictionary truyền vào {'name':'Tuan','age':20}\n",
    "d={'name':'Tuan','age':20}\n",
    "\n",
    "def name(dic):\n",
    "    l=list(dic.values())\n",
    "    n=[]\n",
    "    for i in l:\n",
    "        if str(i).isnumeric()==False:\n",
    "            n.append(i)\n",
    "    return n\n",
    "print(name(d))\n"
   ]
  },
  {
   "cell_type": "code",
   "execution_count": 28,
   "metadata": {},
   "outputs": [
    {
     "name": "stdin",
     "output_type": "stream",
     "text": [
      "Nhập tên học sinh: tom\n"
     ]
    },
    {
     "name": "stdout",
     "output_type": "stream",
     "text": [
      "Học sinh không tồn tại\n"
     ]
    }
   ],
   "source": [
    "#def hàm cho user nhập vào tên học sinh, trả ra kết quả thi. Biết kết quả thi được lưu như sau: {'Jack':8,'John':9}. Nếu tên không tồn tại, in ra \"ten khong ton tai\"\n",
    "\n",
    "d={'Jack':8,'John':9}\n",
    "\n",
    "n=input('Nhập tên học sinh:')\n",
    "def score(name):\n",
    "    if name not in d:\n",
    "        return 'Học sinh không tồn tại'\n",
    "    else:\n",
    "        return d[name]\n",
    "print(score(n))"
   ]
  },
  {
   "cell_type": "code",
   "execution_count": 34,
   "metadata": {},
   "outputs": [
    {
     "name": "stdout",
     "output_type": "stream",
     "text": [
      "['1983', '287']\n"
     ]
    }
   ],
   "source": [
    "s='Trận động đất năm 1983 đã làm 287 người chết'\n",
    "def num(s):\n",
    "    return [i for i in s.split() if i.isnumeric()]\n",
    "print(num(s))"
   ]
  },
  {
   "cell_type": "code",
   "execution_count": 36,
   "metadata": {},
   "outputs": [
    {
     "name": "stdout",
     "output_type": "stream",
     "text": [
      "[3, 6, 9, 12, 15, 18, 21, 24, 27, 30, 33, 36, 39, 42, 45, 48, 51, 54, 57, 60, 63, 66, 69, 72, 75, 78, 81, 84, 87, 90, 93, 96, 99]\n"
     ]
    }
   ],
   "source": [
    "#Trả ra list các số nguyên từ 1 đến 100 và chia hết cho 3.\n",
    "print([i for i in range(1,101) if i%3==0])\n",
    " "
   ]
  },
  {
   "cell_type": "code",
   "execution_count": 26,
   "metadata": {},
   "outputs": [
    {
     "name": "stdout",
     "output_type": "stream",
     "text": [
      "python.com\n",
      "laptrinh.com\n",
      "25\n"
     ]
    }
   ],
   "source": [
    "#Cho list ['Tuan','Ha','python.com','laptrinh.com',25], viết vòng lặp in ra tên trang web và chữ số trong list trên.\n",
    "l=['Tuan','Ha','python.com','laptrinh.com',25]\n",
    "\n",
    "for i in l:\n",
    "    if ('.com' in str(i)) | (str(i).isnumeric()):\n",
    "        print(i)\n"
   ]
  },
  {
   "cell_type": "code",
   "execution_count": 33,
   "metadata": {},
   "outputs": [
    {
     "data": {
      "text/plain": [
       "{'Nam': '20', 'Lan': '25'}"
      ]
     },
     "execution_count": 33,
     "metadata": {},
     "output_type": "execute_result"
    }
   ],
   "source": [
    "#Cho dictionary: {'Tôi là Nam, 20 tuổi và sống tại TP HCM','Tôi là Lan 25 tuổi và sống tại TP Hải Phòng'}, \n",
    "#chạy vòng lặp trả ra dictionary với key là tên và value là tuổi.\n",
    "d={'Nam':'Tôi là Nam, 20 tuổi và sống tại TP HCM',\n",
    "   'Lan':'Tôi là Lan 25 tuổi và sống tại TP Hải Phòng'}\n",
    "d1={}\n",
    "for i,j in d.items():\n",
    "    age=[i for i in j.split(' ') if i.isnumeric()][0]\n",
    "    d1[i]=age\n",
    "d1"
   ]
  },
  {
   "cell_type": "code",
   "execution_count": 39,
   "metadata": {},
   "outputs": [
    {
     "name": "stdout",
     "output_type": "stream",
     "text": [
      "['12346789'] ['59502345'] ['88888888']\n"
     ]
    }
   ],
   "source": [
    "'''Cho dictionary lưu ID đơn hàng và số lượng sản phẩm của mỗi đơn hàng: {'12346789':50,'59502345':10,'88888888':100},\n",
    "Chạy vòng lặp trả ra 3 list:\n",
    "- List sản phẩm kênh store (ID đơn hàng bắt đầu bằng số 12)\n",
    "- List sản phẩm kênh online (ID đơn hàng bắt đầu bằng số 59)\n",
    "- List sản phẩm test (ID đơn hàng là 88888888)'''\n",
    "\n",
    "d={'12346789':50,'59502345':10,'88888888':100}\n",
    "store=[]\n",
    "online=[]\n",
    "test=[]\n",
    "for k,v in d.items():\n",
    "    if k[:2]=='12':\n",
    "        store.append(k)\n",
    "    elif k[:2]=='59':\n",
    "        online.append(k)\n",
    "    elif k=='88888888':\n",
    "        test.append(k)\n",
    "print(store,online,test)"
   ]
  },
  {
   "cell_type": "code",
   "execution_count": 43,
   "metadata": {},
   "outputs": [
    {
     "name": "stdin",
     "output_type": "stream",
     "text": [
      "Nhap ten khach hang: hong\n"
     ]
    },
    {
     "name": "stdout",
     "output_type": "stream",
     "text": [
      "Ten khong ton tai\n"
     ]
    }
   ],
   "source": [
    "'''Cho dictionary lưu ngày sinh của khách hàng: {'Trinh':'12/05/1999','Ngoc':'11/11/2000','Hien':'09/02/1997'}, \n",
    "thiết kế hàm cho user input tên và hàm in ra kết quả là ngày sinh của khách hàng đấy'''\n",
    "\n",
    "d={'Trinh':'12/05/1999','Ngoc':'11/11/2000','Hien':'09/02/1997'}\n",
    "n=input('Nhap ten khach hang:')\n",
    "\n",
    "if n not in d:\n",
    "    print('Ten khong ton tai')\n",
    "else:\n",
    "    print(d[n])\n",
    "\n",
    "    \n",
    "    "
   ]
  },
  {
   "cell_type": "markdown",
   "metadata": {},
   "source": [
    "\n",
    "<h3 id=\"1.3.-Tham-số-mặc-định\">1.3. Tham số mặc định<a class=\"anchor-link\" href=\"#1.3.-Tham-số-mặc-định\">¶</a></h3><ul>\n",
    "<li>Thông thường nếu như chúng ta khai báo hàm mà có tham số truyền vào, nhưng lúc gọi hàm chúng ta lại không truyền tham số đó vào thì chương trình sẽ báo lỗi.</li>\n",
    "<li>Python cho phép khai báo giá trị mặc định cho tham số. Nếu người dùng không truyền tham số lúc gọi hàm, thì giá trị mặc định này sẽ được sử dụng.</li>\n",
    "<li>Cú pháp:<div class=\"highlight\"><pre><span></span><span class=\"k\">def</span> <span class=\"nf\">function_name</span><span class=\"p\">(</span><span class=\"n\">required_params</span><span class=\"p\">,</span> <span class=\"n\">default_1</span><span class=\"o\">=</span><span class=\"n\">value_1</span><span class=\"p\">,</span> <span class=\"n\">default_2</span><span class=\"o\">=</span><span class=\"n\">value_2</span><span class=\"p\">):</span>\n",
    "  <span class=\"c1\"># code here</span>\n",
    "</pre></div>\n",
    "<ul>\n",
    "<li><code>required_params</code>: danh sách các tham số bắt buộc, cách nhau bởi dấu phẩy.</li>\n",
    "<li><code>default_1, default_2, ...</code>: danh sách các tham số tùy chọn với giá trị mặc định tương ứng là <code>value_1, value_2</code>, ...</li>\n",
    "<li>Tham số mặc định lúc nào cũng phải xếp cuối cùng.</li>\n",
    "</ul>\n",
    "</li>\n",
    "</ul>\n"
   ]
  },
  {
   "cell_type": "markdown",
   "metadata": {},
   "source": [
    "\n",
    "<h4 id='VD1:-Hàm-say_hi(name=\"user\")'>VD1: Hàm <code>say_hi(name=\"user\")</code><a class=\"anchor-link\" href='#VD1:-Hàm-say_hi(name=\"user\")'>¶</a></h4>\n"
   ]
  },
  {
   "cell_type": "code",
   "execution_count": 48,
   "metadata": {},
   "outputs": [
    {
     "name": "stdout",
     "output_type": "stream",
     "text": [
      "hello user\n"
     ]
    }
   ],
   "source": [
    "# Định nghĩa\n",
    "def say_hi(name='user'):\n",
    "    print('hello {}'.format(name))\n",
    "say_hi()"
   ]
  },
  {
   "cell_type": "code",
   "execution_count": 45,
   "metadata": {},
   "outputs": [
    {
     "data": {
      "text/plain": [
       "0"
      ]
     },
     "execution_count": 45,
     "metadata": {},
     "output_type": "execute_result"
    }
   ],
   "source": [
    "# Ham cong tong 2 bien, 2 tham so mac dinh = 0\n",
    "def add_numbers(x=0,y=0):\n",
    "    return x+y\n",
    "add_numbers()"
   ]
  },
  {
   "cell_type": "code",
   "execution_count": 49,
   "metadata": {},
   "outputs": [
    {
     "name": "stdout",
     "output_type": "stream",
     "text": [
      "hello user\n",
      "hello Bob\n"
     ]
    }
   ],
   "source": [
    "# Gọi\n",
    "say_hi()\n",
    "say_hi(\"Bob\")"
   ]
  },
  {
   "cell_type": "markdown",
   "metadata": {},
   "source": [
    "\n",
    "<h4 id=\"VD2:-Hàm-print\">VD2: Hàm print<a class=\"anchor-link\" href=\"#VD2:-Hàm-print\">¶</a></h4>\n"
   ]
  },
  {
   "cell_type": "raw",
   "metadata": {},
   "source": [
    "print()"
   ]
  },
  {
   "cell_type": "code",
   "execution_count": 52,
   "metadata": {},
   "outputs": [
    {
     "name": "stdout",
     "output_type": "stream",
     "text": [
      "H\n",
      "e\n",
      "l\n",
      "l\n",
      "o\n"
     ]
    }
   ],
   "source": [
    "s = \"Hello\"\n",
    "\n",
    "for x in s:\n",
    "    print(x)"
   ]
  },
  {
   "cell_type": "code",
   "execution_count": 51,
   "metadata": {},
   "outputs": [
    {
     "name": "stdout",
     "output_type": "stream",
     "text": [
      "H_e_l_l_o_"
     ]
    }
   ],
   "source": [
    "s = \"Hello\"\n",
    "\n",
    "for x in s:\n",
    "    print(x, end=\"_\")"
   ]
  },
  {
   "cell_type": "markdown",
   "metadata": {},
   "source": [
    "\n",
    "<h3 id=\"1.4.-Phạm-vi-của-biến\">1.4. Phạm vi của biến<a class=\"anchor-link\" href=\"#1.4.-Phạm-vi-của-biến\">¶</a></h3>\n"
   ]
  },
  {
   "cell_type": "markdown",
   "metadata": {},
   "source": [
    "\n",
    "<p>Khi một biến được khai báo ở trong hàm thì nó chỉ có thể được sử dụng ở trong hàm đó thôi. VD:</p>\n",
    "<div class=\"highlight\"><pre><span></span><span class=\"k\">def</span> <span class=\"nf\">say_hi</span><span class=\"p\">():</span>\n",
    "    <span class=\"c1\"># Biến a định nghĩa trong hàm</span>\n",
    "    <span class=\"n\">a</span> <span class=\"o\">=</span> <span class=\"s2\">\"Hello\"</span>\n",
    "    <span class=\"k\">print</span><span class=\"p\">(</span><span class=\"n\">a</span><span class=\"p\">)</span>\n",
    "\n",
    "<span class=\"c1\"># Thử in biến a bên ngoài scope của hàm</span>\n",
    "<span class=\"k\">print</span><span class=\"p\">(</span><span class=\"n\">a</span><span class=\"p\">)</span>\n",
    "<span class=\"c1\"># Lỗi: name 'a' is not defined</span>\n",
    "</pre></div>\n"
   ]
  },
  {
   "cell_type": "markdown",
   "metadata": {},
   "source": [
    "\n",
    "<p>Hai biến cùng tên nhưng ở phạm vi khác nhau là hai biến khác nhau, không liên quan đến nhau.</p>\n"
   ]
  },
  {
   "cell_type": "code",
   "execution_count": 53,
   "metadata": {},
   "outputs": [
    {
     "name": "stdout",
     "output_type": "stream",
     "text": [
      "Hi user\n",
      "Hello user!\n"
     ]
    }
   ],
   "source": [
    "# Khai báo biến a ở global environment\n",
    "a = \"Hello user!\"\n",
    "\n",
    "# Khai báo hàm say() với biến định nghĩa ở local environment\n",
    "def say(a):\n",
    "    # Biến a ở local scope\n",
    "    a = \"Hi user\"\n",
    "    print(a)\n",
    "    \n",
    "# Test\n",
    "say(a)\n",
    "# KQ: \"Hi user\"\n",
    "\n",
    "print(a)\n",
    "# KQ: Hello user!"
   ]
  },
  {
   "cell_type": "markdown",
   "metadata": {},
   "source": [
    "\n",
    "<p><strong>Lưu ý:</strong></p>\n",
    "<ul>\n",
    "<li>Nếu như biến mà có kiểu dữ liệu là mutable như list hoặc dictionary thì khi thay khi truyền biến vào hàm, và trong hàm thay đổi biến đó thì biến ở bên ngoài cũng bị thay đổi theo.</li>\n",
    "<li>Lý do là khi truyền list vào hàm, bản chất là ta truyền chính list đó vào hàm (chứ không phải bản copy của list), nên sửa list trong hàm đồng nghĩa với effect sẽ được giữ lại khi thoát ra khỏi hàm.</li>\n",
    "</ul>\n"
   ]
  },
  {
   "cell_type": "code",
   "execution_count": 54,
   "metadata": {},
   "outputs": [
    {
     "name": "stdout",
     "output_type": "stream",
     "text": [
      "[1, -2, 4]\n",
      "[-2, 1, 4]\n"
     ]
    }
   ],
   "source": [
    "a = [1, -2, 4]\n",
    "print(a)\n",
    "\n",
    "def sort_a_list(l):\n",
    "    l.sort()\n",
    "    return l\n",
    "\n",
    "sort_a_list(a)\n",
    "print(a)"
   ]
  },
  {
   "cell_type": "markdown",
   "metadata": {},
   "source": [
    "\n",
    "<h3 id=\"1.5.-Truyền-vô-số-tham-số-vào-hàm\">1.5. Truyền vô số tham số vào hàm<a class=\"anchor-link\" href=\"#1.5.-Truyền-vô-số-tham-số-vào-hàm\">¶</a></h3><ul>\n",
    "<li>Trên thực tế, không phải lúc nào chúng ta cũng biết được chính xác số lượng biến truyền vào trong hàm. </li>\n",
    "<li>Python cung cấp cho chúng ta khai báo một param đại diện cho các biến truyền vào hàm bằng cách thêm dấu * vào trước param đó.</li>\n",
    "</ul>\n"
   ]
  },
  {
   "cell_type": "markdown",
   "metadata": {},
   "source": [
    "\n",
    "<h4 id=\"VD1:-Tính-tổng-của-vô-số-số-truyền-vào\">VD1: Tính tổng của vô số số truyền vào<a class=\"anchor-link\" href=\"#VD1:-Tính-tổng-của-vô-số-số-truyền-vào\">¶</a></h4>\n"
   ]
  },
  {
   "cell_type": "code",
   "execution_count": 55,
   "metadata": {},
   "outputs": [],
   "source": [
    "def get_sum(*num):\n",
    "    total = 0\n",
    "    \n",
    "    # Duyệt qua các tham số\n",
    "    for i in num:\n",
    "        total += i\n",
    "    \n",
    "    # Trả về tổng\n",
    "    return total"
   ]
  },
  {
   "cell_type": "code",
   "execution_count": 56,
   "metadata": {},
   "outputs": [
    {
     "name": "stdout",
     "output_type": "stream",
     "text": [
      "3\n",
      "21\n",
      "6\n"
     ]
    }
   ],
   "source": [
    "print(get_sum(1, 2))\n",
    "print(get_sum(1, 2, 3, 4, 5, 6))\n",
    "print(get_sum(1, 2, 3))"
   ]
  },
  {
   "cell_type": "markdown",
   "metadata": {},
   "source": [
    "\n",
    "<h3 id=\"3.-Examples\">2. Examples<a class=\"anchor-link\" href=\"#3.-Examples\">¶</a></h3>\n"
   ]
  },
  {
   "cell_type": "markdown",
   "metadata": {},
   "source": [
    "\n",
    "<h4 id=\"VD1:-Hàm-nhận-vào-1-list/tuple-of-numerics,-trả-về-tích-của-các-số-đó\">VD1: Hàm nhận vào 1 list/tuple of numerics, trả về tích của các số đó<a class=\"anchor-link\" href=\"#VD1:-Hàm-nhận-vào-1-list/tuple-of-numerics,-trả-về-tích-của-các-số-đó\">¶</a></h4>\n"
   ]
  },
  {
   "cell_type": "code",
   "execution_count": 57,
   "metadata": {},
   "outputs": [],
   "source": [
    "def mult(lst):\n",
    "    p = 1\n",
    "    for i in lst:\n",
    "        p *= i\n",
    "    return p"
   ]
  },
  {
   "cell_type": "code",
   "execution_count": 58,
   "metadata": {},
   "outputs": [
    {
     "name": "stdout",
     "output_type": "stream",
     "text": [
      "10\n",
      "-70\n"
     ]
    }
   ],
   "source": [
    "print(mult([2, 5]))\n",
    "print(mult([2, 5, -7]))"
   ]
  },
  {
   "cell_type": "markdown",
   "metadata": {},
   "source": [
    "\n",
    "<h4 id=\"VD2:-Hàm-nhận-vào-các-số-tùy-ý-cách-nhau-bởi-dấu-phẩy,-trả-về-tích-của-các-số-đó\">VD2: Hàm nhận vào các số tùy ý cách nhau bởi dấu phẩy, trả về tích của các số đó<a class=\"anchor-link\" href=\"#VD2:-Hàm-nhận-vào-các-số-tùy-ý-cách-nhau-bởi-dấu-phẩy,-trả-về-tích-của-các-số-đó\">¶</a></h4>\n"
   ]
  },
  {
   "cell_type": "code",
   "execution_count": 48,
   "metadata": {},
   "outputs": [],
   "source": [
    "def mult(*num):\n",
    "    p = 1\n",
    "    for i in num:\n",
    "        p *= i\n",
    "    return p"
   ]
  },
  {
   "cell_type": "code",
   "execution_count": 49,
   "metadata": {},
   "outputs": [
    {
     "name": "stdout",
     "output_type": "stream",
     "text": [
      "6\n",
      "0\n",
      "-45\n"
     ]
    }
   ],
   "source": [
    "print(mult(1, 2, 3))\n",
    "print(mult(-5, 1, 0, 6))\n",
    "print(mult(-5, 1, 3, 3))"
   ]
  },
  {
   "cell_type": "markdown",
   "metadata": {},
   "source": [
    "\n",
    "<h4 id=\"VD3:-Hàm-nhận-vào-1-list-và-trả-về-list-các-số-chẵn\">VD3: Hàm nhận vào 1 list và trả về list các số chẵn nhưng loại bỏ số 0<a class=\"anchor-link\" href=\"#VD3:-Hàm-nhận-vào-1-list-và-trả-về-list-các-số-chẵn\">¶</a></h4>\n"
   ]
  },
  {
   "cell_type": "code",
   "execution_count": 65,
   "metadata": {},
   "outputs": [
    {
     "name": "stdout",
     "output_type": "stream",
     "text": [
      "[2, 4, 6, 8]\n"
     ]
    }
   ],
   "source": [
    "def get_even_numbers(lst):\n",
    "    l=[]\n",
    "    for i in lst:\n",
    "        if (i%2==0) & (i!=0):\n",
    "            l.append(i)\n",
    "    return l\n",
    "print(get_even_numbers([1,2,3,4,5,6,7,8,9,0]))"
   ]
  },
  {
   "cell_type": "code",
   "execution_count": 66,
   "metadata": {},
   "outputs": [
    {
     "name": "stdout",
     "output_type": "stream",
     "text": [
      "[2, 4, 6, 8]\n"
     ]
    }
   ],
   "source": [
    "# comprehensive\n",
    "def get_even_numbers(lst):\n",
    "    return [i for i in lst if (i%2==0) & (i!=0)]\n",
    "\n",
    "print(get_even_numbers([1,2,3,4,5,6,7,8,9,0])) "
   ]
  },
  {
   "cell_type": "code",
   "execution_count": 67,
   "metadata": {},
   "outputs": [
    {
     "name": "stdout",
     "output_type": "stream",
     "text": [
      "[2, -4, 8, 144]\n"
     ]
    }
   ],
   "source": [
    "l = [1, 2, -3, 7, -4, 0, 8, 123, 144]\n",
    "print(get_even_numbers(l))"
   ]
  },
  {
   "cell_type": "markdown",
   "metadata": {},
   "source": [
    "\n",
    "<h4 id=\"VD4:-Hàm-nhận-vào-một-string-và-trả-về-dictionary-là-từ-và-số-ký-tự-của-từ\">VD4: Hàm nhận vào một string và trả về dictionary là từ và số ký tự của từng từ<a class=\"anchor-link\" href=\"#VD4:-Hàm-nhận-vào-một-string-và-trả-về-dictionary-là-từ-và-số-ký-tự-của-từ\">¶</a></h4>\n"
   ]
  },
  {
   "cell_type": "code",
   "execution_count": 77,
   "metadata": {},
   "outputs": [],
   "source": [
    "def get_word_lengths(s):\n",
    "    l=s.split(' ')\n",
    "    n=[]\n",
    "    for i in l:\n",
    "        n.append(len(i))\n",
    "    return dict(zip(l, n))\n",
    "\n",
    " "
   ]
  },
  {
   "cell_type": "code",
   "execution_count": 75,
   "metadata": {},
   "outputs": [],
   "source": [
    "def get_word_lengths(s):\n",
    "    return {x:len(x) for x in s.split(' ')}\n",
    " "
   ]
  },
  {
   "cell_type": "code",
   "execution_count": 78,
   "metadata": {},
   "outputs": [
    {
     "name": "stdout",
     "output_type": "stream",
     "text": [
      "{'Hàm': 3, 'nhận': 4, 'vào': 3, 'một': 3, 'string': 6, 'và': 2, 'trả': 3, 'về': 2, 'dictionary': 10, 'là': 2, 'từ': 2, 'số': 2, 'ký': 2, 'tự': 2, 'của': 3}\n"
     ]
    }
   ],
   "source": [
    "s = \"Hàm nhận vào một string và trả về dictionary là từ và số ký tự của từ\"\n",
    "print(get_word_lengths(s))"
   ]
  },
  {
   "cell_type": "code",
   "execution_count": null,
   "metadata": {},
   "outputs": [],
   "source": []
  },
  {
   "cell_type": "markdown",
   "metadata": {},
   "source": [
    "# 3. Lambda Function\n",
    "\n",
    "Lambda là một hàm ẩn danh, nhận input là một biểu thức"
   ]
  },
  {
   "cell_type": "code",
   "execution_count": 59,
   "metadata": {},
   "outputs": [
    {
     "data": {
      "text/plain": [
       "15"
      ]
     },
     "execution_count": 59,
     "metadata": {},
     "output_type": "execute_result"
    }
   ],
   "source": [
    "def sum10(a):\n",
    "    return a + 10\n",
    "sum10(5)"
   ]
  },
  {
   "cell_type": "code",
   "execution_count": 60,
   "metadata": {},
   "outputs": [
    {
     "name": "stdout",
     "output_type": "stream",
     "text": [
      "15\n"
     ]
    }
   ],
   "source": [
    "x = lambda a : a + 10\n",
    "print(x(5))"
   ]
  },
  {
   "cell_type": "code",
   "execution_count": 62,
   "metadata": {},
   "outputs": [
    {
     "name": "stdout",
     "output_type": "stream",
     "text": [
      "30\n"
     ]
    }
   ],
   "source": [
    "x = lambda a, b : a * b\n",
    "print(x(5, 6))"
   ]
  },
  {
   "cell_type": "code",
   "execution_count": 63,
   "metadata": {},
   "outputs": [
    {
     "name": "stdout",
     "output_type": "stream",
     "text": [
      "13\n"
     ]
    }
   ],
   "source": [
    "x = lambda a, b, c : a + b + c\n",
    "print(x(5, 6, 2))"
   ]
  },
  {
   "cell_type": "code",
   "execution_count": 64,
   "metadata": {},
   "outputs": [
    {
     "name": "stdout",
     "output_type": "stream",
     "text": [
      "2\n"
     ]
    }
   ],
   "source": [
    "Max = lambda a, b : a if(a > b) else b\n",
    "print(Max(1, 2))"
   ]
  },
  {
   "cell_type": "code",
   "execution_count": 65,
   "metadata": {},
   "outputs": [
    {
     "data": {
      "text/plain": [
       "6"
      ]
     },
     "execution_count": 65,
     "metadata": {},
     "output_type": "execute_result"
    }
   ],
   "source": [
    "x = lambda a, b, c: a * b * c\n",
    "x(1,2,3)"
   ]
  },
  {
   "cell_type": "code",
   "execution_count": null,
   "metadata": {},
   "outputs": [],
   "source": []
  }
 ],
 "metadata": {
  "kernelspec": {
   "display_name": "Python 3 (ipykernel)",
   "language": "python",
   "name": "python3"
  },
  "language_info": {
   "codemirror_mode": {
    "name": "ipython",
    "version": 3
   },
   "file_extension": ".py",
   "mimetype": "text/x-python",
   "name": "python",
   "nbconvert_exporter": "python",
   "pygments_lexer": "ipython3",
   "version": "3.9.13"
  },
  "toc": {
   "base_numbering": 1,
   "nav_menu": {},
   "number_sections": true,
   "sideBar": true,
   "skip_h1_title": false,
   "title_cell": "Table of Contents",
   "title_sidebar": "Contents",
   "toc_cell": false,
   "toc_position": {},
   "toc_section_display": true,
   "toc_window_display": true
  },
  "toc-showtags": false
 },
 "nbformat": 4,
 "nbformat_minor": 4
}
